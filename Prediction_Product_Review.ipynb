{
  "nbformat": 4,
  "nbformat_minor": 0,
  "metadata": {
    "colab": {
      "provenance": []
    },
    "kernelspec": {
      "name": "python3",
      "display_name": "Python 3"
    },
    "language_info": {
      "name": "python"
    }
  },
  "cells": [
    {
      "cell_type": "markdown",
      "metadata": {
        "id": "xM0IgU4BV1e9"
      },
      "source": [
        "## 1. Data Preparation"
      ]
    },
    {
      "cell_type": "markdown",
      "metadata": {
        "id": "IRrn18SmV8fd"
      },
      "source": [
        "### 1.1 Loading Dependencies"
      ]
    },
    {
      "cell_type": "code",
      "metadata": {
        "id": "iH8wmiw0XOp-"
      },
      "source": [
        "#import libraries\n",
        "import pandas as pd #untuk dataframe\n",
        "import matplotlib.pyplot as plt  #untuk visualisasi\n",
        "import seaborn as sns\n",
        "\n",
        "from sklearn.metrics import confusion_matrix, classification_report # evaluate metrics\n",
        "from sklearn.feature_extraction.text import TfidfTransformer,TfidfVectorizer,CountVectorizer # TF-IDF\n",
        "from sklearn.model_selection import train_test_split # split data\n",
        "from sklearn.svm import LinearSVC # model untuk data mining\n",
        "from imblearn.over_sampling import SMOTE # handling imbalance"
      ],
      "execution_count": 16,
      "outputs": []
    },
    {
      "cell_type": "code",
      "metadata": {
        "colab": {
          "base_uri": "https://localhost:8080/",
          "height": 239
        },
        "id": "6GQyMovTXcUk",
        "outputId": "2d3b43fe-5ae2-494b-a1db-d50dacbf47ca"
      },
      "source": [
        "# read and show data\n",
        "df = pd.read_excel(\"product_reviews_dirty.xlsx\",index_col=0) # read data\n",
        "df.head(3) # show top data"
      ],
      "execution_count": 17,
      "outputs": [
        {
          "output_type": "execute_result",
          "data": {
            "text/plain": [
              "                                              text  rating     category  \\\n",
              "1           Barang sesuai pesanan dan cepat sampai       5  pertukangan   \n",
              "2                         Barang bagus harga murah       5  pertukangan   \n",
              "3  Paket rapi...mantap....cepat....sampe ke tujuan       5  pertukangan   \n",
              "\n",
              "                                        product_name  product_id sold  \\\n",
              "1  Staples Dekorasi Staples Kayu + Refill 8mm - S...   418660637    1   \n",
              "2  STAPLE GUN ATS 3 WAY TACKER - STAPLES JOK TEMB...   416032545   11   \n",
              "3  STAPLE GUN ATS 3 WAY TACKER - STAPLES JOK TEMB...   416032545   11   \n",
              "\n",
              "   shop_id                                        product_url sentimen  \n",
              "1  1740837  https://www.tokopedia.com/shakaonline87/staple...  Positif  \n",
              "2  1477109  https://www.tokopedia.com/juraganperkakas/stap...  Positif  \n",
              "3  1477109  https://www.tokopedia.com/juraganperkakas/stap...  Positif  "
            ],
            "text/html": [
              "\n",
              "  <div id=\"df-41f0ec87-d58d-4e6e-a02e-d4bf9ed9a082\">\n",
              "    <div class=\"colab-df-container\">\n",
              "      <div>\n",
              "<style scoped>\n",
              "    .dataframe tbody tr th:only-of-type {\n",
              "        vertical-align: middle;\n",
              "    }\n",
              "\n",
              "    .dataframe tbody tr th {\n",
              "        vertical-align: top;\n",
              "    }\n",
              "\n",
              "    .dataframe thead th {\n",
              "        text-align: right;\n",
              "    }\n",
              "</style>\n",
              "<table border=\"1\" class=\"dataframe\">\n",
              "  <thead>\n",
              "    <tr style=\"text-align: right;\">\n",
              "      <th></th>\n",
              "      <th>text</th>\n",
              "      <th>rating</th>\n",
              "      <th>category</th>\n",
              "      <th>product_name</th>\n",
              "      <th>product_id</th>\n",
              "      <th>sold</th>\n",
              "      <th>shop_id</th>\n",
              "      <th>product_url</th>\n",
              "      <th>sentimen</th>\n",
              "    </tr>\n",
              "  </thead>\n",
              "  <tbody>\n",
              "    <tr>\n",
              "      <th>1</th>\n",
              "      <td>Barang sesuai pesanan dan cepat sampai</td>\n",
              "      <td>5</td>\n",
              "      <td>pertukangan</td>\n",
              "      <td>Staples Dekorasi Staples Kayu + Refill 8mm - S...</td>\n",
              "      <td>418660637</td>\n",
              "      <td>1</td>\n",
              "      <td>1740837</td>\n",
              "      <td>https://www.tokopedia.com/shakaonline87/staple...</td>\n",
              "      <td>Positif</td>\n",
              "    </tr>\n",
              "    <tr>\n",
              "      <th>2</th>\n",
              "      <td>Barang bagus harga murah</td>\n",
              "      <td>5</td>\n",
              "      <td>pertukangan</td>\n",
              "      <td>STAPLE GUN ATS 3 WAY TACKER - STAPLES JOK TEMB...</td>\n",
              "      <td>416032545</td>\n",
              "      <td>11</td>\n",
              "      <td>1477109</td>\n",
              "      <td>https://www.tokopedia.com/juraganperkakas/stap...</td>\n",
              "      <td>Positif</td>\n",
              "    </tr>\n",
              "    <tr>\n",
              "      <th>3</th>\n",
              "      <td>Paket rapi...mantap....cepat....sampe ke tujuan</td>\n",
              "      <td>5</td>\n",
              "      <td>pertukangan</td>\n",
              "      <td>STAPLE GUN ATS 3 WAY TACKER - STAPLES JOK TEMB...</td>\n",
              "      <td>416032545</td>\n",
              "      <td>11</td>\n",
              "      <td>1477109</td>\n",
              "      <td>https://www.tokopedia.com/juraganperkakas/stap...</td>\n",
              "      <td>Positif</td>\n",
              "    </tr>\n",
              "  </tbody>\n",
              "</table>\n",
              "</div>\n",
              "      <button class=\"colab-df-convert\" onclick=\"convertToInteractive('df-41f0ec87-d58d-4e6e-a02e-d4bf9ed9a082')\"\n",
              "              title=\"Convert this dataframe to an interactive table.\"\n",
              "              style=\"display:none;\">\n",
              "        \n",
              "  <svg xmlns=\"http://www.w3.org/2000/svg\" height=\"24px\"viewBox=\"0 0 24 24\"\n",
              "       width=\"24px\">\n",
              "    <path d=\"M0 0h24v24H0V0z\" fill=\"none\"/>\n",
              "    <path d=\"M18.56 5.44l.94 2.06.94-2.06 2.06-.94-2.06-.94-.94-2.06-.94 2.06-2.06.94zm-11 1L8.5 8.5l.94-2.06 2.06-.94-2.06-.94L8.5 2.5l-.94 2.06-2.06.94zm10 10l.94 2.06.94-2.06 2.06-.94-2.06-.94-.94-2.06-.94 2.06-2.06.94z\"/><path d=\"M17.41 7.96l-1.37-1.37c-.4-.4-.92-.59-1.43-.59-.52 0-1.04.2-1.43.59L10.3 9.45l-7.72 7.72c-.78.78-.78 2.05 0 2.83L4 21.41c.39.39.9.59 1.41.59.51 0 1.02-.2 1.41-.59l7.78-7.78 2.81-2.81c.8-.78.8-2.07 0-2.86zM5.41 20L4 18.59l7.72-7.72 1.47 1.35L5.41 20z\"/>\n",
              "  </svg>\n",
              "      </button>\n",
              "      \n",
              "  <style>\n",
              "    .colab-df-container {\n",
              "      display:flex;\n",
              "      flex-wrap:wrap;\n",
              "      gap: 12px;\n",
              "    }\n",
              "\n",
              "    .colab-df-convert {\n",
              "      background-color: #E8F0FE;\n",
              "      border: none;\n",
              "      border-radius: 50%;\n",
              "      cursor: pointer;\n",
              "      display: none;\n",
              "      fill: #1967D2;\n",
              "      height: 32px;\n",
              "      padding: 0 0 0 0;\n",
              "      width: 32px;\n",
              "    }\n",
              "\n",
              "    .colab-df-convert:hover {\n",
              "      background-color: #E2EBFA;\n",
              "      box-shadow: 0px 1px 2px rgba(60, 64, 67, 0.3), 0px 1px 3px 1px rgba(60, 64, 67, 0.15);\n",
              "      fill: #174EA6;\n",
              "    }\n",
              "\n",
              "    [theme=dark] .colab-df-convert {\n",
              "      background-color: #3B4455;\n",
              "      fill: #D2E3FC;\n",
              "    }\n",
              "\n",
              "    [theme=dark] .colab-df-convert:hover {\n",
              "      background-color: #434B5C;\n",
              "      box-shadow: 0px 1px 3px 1px rgba(0, 0, 0, 0.15);\n",
              "      filter: drop-shadow(0px 1px 2px rgba(0, 0, 0, 0.3));\n",
              "      fill: #FFFFFF;\n",
              "    }\n",
              "  </style>\n",
              "\n",
              "      <script>\n",
              "        const buttonEl =\n",
              "          document.querySelector('#df-41f0ec87-d58d-4e6e-a02e-d4bf9ed9a082 button.colab-df-convert');\n",
              "        buttonEl.style.display =\n",
              "          google.colab.kernel.accessAllowed ? 'block' : 'none';\n",
              "\n",
              "        async function convertToInteractive(key) {\n",
              "          const element = document.querySelector('#df-41f0ec87-d58d-4e6e-a02e-d4bf9ed9a082');\n",
              "          const dataTable =\n",
              "            await google.colab.kernel.invokeFunction('convertToInteractive',\n",
              "                                                     [key], {});\n",
              "          if (!dataTable) return;\n",
              "\n",
              "          const docLinkHtml = 'Like what you see? Visit the ' +\n",
              "            '<a target=\"_blank\" href=https://colab.research.google.com/notebooks/data_table.ipynb>data table notebook</a>'\n",
              "            + ' to learn more about interactive tables.';\n",
              "          element.innerHTML = '';\n",
              "          dataTable['output_type'] = 'display_data';\n",
              "          await google.colab.output.renderOutput(dataTable, element);\n",
              "          const docLink = document.createElement('div');\n",
              "          docLink.innerHTML = docLinkHtml;\n",
              "          element.appendChild(docLink);\n",
              "        }\n",
              "      </script>\n",
              "    </div>\n",
              "  </div>\n",
              "  "
            ]
          },
          "metadata": {},
          "execution_count": 17
        }
      ]
    },
    {
      "cell_type": "code",
      "metadata": {
        "colab": {
          "base_uri": "https://localhost:8080/"
        },
        "id": "aNMALakbXeo1",
        "outputId": "4d1b1732-534e-4608-e0df-2fc722fa31dc"
      },
      "source": [
        "df.shape"
      ],
      "execution_count": 18,
      "outputs": [
        {
          "output_type": "execute_result",
          "data": {
            "text/plain": [
              "(40607, 9)"
            ]
          },
          "metadata": {},
          "execution_count": 18
        }
      ]
    },
    {
      "cell_type": "markdown",
      "metadata": {
        "id": "3cKgpygPXirU"
      },
      "source": [
        "### 1.2 exploratory data analysis"
      ]
    },
    {
      "cell_type": "code",
      "metadata": {
        "colab": {
          "base_uri": "https://localhost:8080/"
        },
        "id": "hlY0y5y7Xmwb",
        "outputId": "ded21b21-36dd-4ee5-daf2-f6fab0a91ea5"
      },
      "source": [
        "# show sentimen data\n",
        "df.sentimen.value_counts()"
      ],
      "execution_count": 19,
      "outputs": [
        {
          "output_type": "execute_result",
          "data": {
            "text/plain": [
              "Positif    39574\n",
              "Negatif      996\n",
              "Netral        36\n",
              "Name: sentimen, dtype: int64"
            ]
          },
          "metadata": {},
          "execution_count": 19
        }
      ]
    },
    {
      "cell_type": "code",
      "metadata": {
        "colab": {
          "base_uri": "https://localhost:8080/",
          "height": 306
        },
        "id": "G38Dr8llXpWN",
        "outputId": "bb98195a-21fc-4df1-8f3d-3ea6fe60ff42"
      },
      "source": [
        "# visualize\n",
        "df.groupby('sentimen')['text'].count().plot.bar() \n",
        "plt.show()"
      ],
      "execution_count": 20,
      "outputs": [
        {
          "output_type": "display_data",
          "data": {
            "text/plain": [
              "<Figure size 432x288 with 1 Axes>"
            ],
            "image/png": "[encoded data removed]"
          },
          "metadata": {
            "needs_background": "light"
          }
        }
      ]
    },
    {
      "cell_type": "markdown",
      "metadata": {
        "id": "vZLPbIBVdfsO"
      },
      "source": [
        "The data is imbalanced-> data over-sampling"
      ]
    },
    {
      "cell_type": "markdown",
      "metadata": {
        "id": "WnV7eJIxdoXS"
      },
      "source": [
        "## 2. Data Preprocessing"
      ]
    },
    {
      "cell_type": "markdown",
      "metadata": {
        "id": "i477dtLudsW9"
      },
      "source": [
        "### 2.1 Duplicate value checking"
      ]
    },
    {
      "cell_type": "code",
      "metadata": {
        "colab": {
          "base_uri": "https://localhost:8080/"
        },
        "id": "V54LD_N6rf4k",
        "outputId": "fcb3c3c6-c533-415c-a850-10690d8a4697"
      },
      "source": [
        "df.duplicated().sum()"
      ],
      "execution_count": 21,
      "outputs": [
        {
          "output_type": "execute_result",
          "data": {
            "text/plain": [
              "0"
            ]
          },
          "metadata": {},
          "execution_count": 21
        }
      ]
    },
    {
      "cell_type": "markdown",
      "metadata": {
        "id": "CO6_yfL9rmWO"
      },
      "source": [
        "### 2.2 Missing value checking"
      ]
    },
    {
      "cell_type": "code",
      "metadata": {
        "id": "gcQiuAjwroeR",
        "colab": {
          "base_uri": "https://localhost:8080/"
        },
        "outputId": "15894a3d-81cc-4b2a-f33b-4621d7ab9d9b"
      },
      "source": [
        "df.info()"
      ],
      "execution_count": 22,
      "outputs": [
        {
          "output_type": "stream",
          "name": "stdout",
          "text": [
            "<class 'pandas.core.frame.DataFrame'>\n",
            "Int64Index: 40607 entries, 1 to 40893\n",
            "Data columns (total 9 columns):\n",
            " #   Column        Non-Null Count  Dtype \n",
            "---  ------        --------------  ----- \n",
            " 0   text          40602 non-null  object\n",
            " 1   rating        40607 non-null  int64 \n",
            " 2   category      40607 non-null  object\n",
            " 3   product_name  40607 non-null  object\n",
            " 4   product_id    40607 non-null  int64 \n",
            " 5   sold          40593 non-null  object\n",
            " 6   shop_id       40607 non-null  int64 \n",
            " 7   product_url   40607 non-null  object\n",
            " 8   sentimen      40606 non-null  object\n",
            "dtypes: int64(3), object(6)\n",
            "memory usage: 3.1+ MB\n"
          ]
        }
      ]
    },
    {
      "cell_type": "code",
      "metadata": {
        "id": "DNL_JJ-Nru-n",
        "colab": {
          "base_uri": "https://localhost:8080/"
        },
        "outputId": "ecb55972-ace4-4269-a5fa-f002270d7b06"
      },
      "source": [
        "#check missing value\n",
        "df.isna().sum()"
      ],
      "execution_count": 23,
      "outputs": [
        {
          "output_type": "execute_result",
          "data": {
            "text/plain": [
              "text             5\n",
              "rating           0\n",
              "category         0\n",
              "product_name     0\n",
              "product_id       0\n",
              "sold            14\n",
              "shop_id          0\n",
              "product_url      0\n",
              "sentimen         1\n",
              "dtype: int64"
            ]
          },
          "metadata": {},
          "execution_count": 23
        }
      ]
    },
    {
      "cell_type": "code",
      "metadata": {
        "id": "vGSkZ3DMrzN9",
        "colab": {
          "base_uri": "https://localhost:8080/"
        },
        "outputId": "2b800a0d-2c22-43d9-c273-d2c534fc0b4f"
      },
      "source": [
        "df.dropna(inplace=True)\n",
        "\n",
        "print(f'Missing Value:\\n{df.isna().sum()}')\n",
        "print('\\nDataFrame shape:',df.shape) # (row, column)"
      ],
      "execution_count": 24,
      "outputs": [
        {
          "output_type": "stream",
          "name": "stdout",
          "text": [
            "Missing Value:\n",
            "text            0\n",
            "rating          0\n",
            "category        0\n",
            "product_name    0\n",
            "product_id      0\n",
            "sold            0\n",
            "shop_id         0\n",
            "product_url     0\n",
            "sentimen        0\n",
            "dtype: int64\n",
            "\n",
            "DataFrame shape: (40587, 9)\n"
          ]
        }
      ]
    },
    {
      "cell_type": "code",
      "metadata": {
        "id": "PEkGhxkVsJgS",
        "colab": {
          "base_uri": "https://localhost:8080/"
        },
        "outputId": "c52332cc-c17f-487f-8906-ace14188f215"
      },
      "source": [
        "df.columns"
      ],
      "execution_count": 25,
      "outputs": [
        {
          "output_type": "execute_result",
          "data": {
            "text/plain": [
              "Index(['text', 'rating', 'category', 'product_name', 'product_id', 'sold',\n",
              "       'shop_id', 'product_url', 'sentimen'],\n",
              "      dtype='object')"
            ]
          },
          "metadata": {},
          "execution_count": 25
        }
      ]
    },
    {
      "cell_type": "markdown",
      "metadata": {
        "id": "vfBxvq6IsvMp"
      },
      "source": [
        "### 2.3 Feature Selection"
      ]
    },
    {
      "cell_type": "code",
      "metadata": {
        "id": "blIABmitsfb5",
        "colab": {
          "base_uri": "https://localhost:8080/",
          "height": 81
        },
        "outputId": "c1b60a8c-d46b-4ac0-d836-4cab22151109"
      },
      "source": [
        "#drop some data\n",
        "df.drop(columns=df.columns[1:8], axis=1, inplace=True) # columns[nilai_awal : nilai_akhir+1], axis=1 => column | axis=0 => row\n",
        "\n",
        "#encoding process\n",
        "df['sentimen_encoded'] = df['sentimen'].astype('category').cat.codes\n",
        "\n",
        "#print sample of the encoded-data\n",
        "df.sample()"
      ],
      "execution_count": 26,
      "outputs": [
        {
          "output_type": "execute_result",
          "data": {
            "text/plain": [
              "                         text sentimen  sentimen_encoded\n",
              "11636  Sudah diterima. Trims.  Positif                 2"
            ],
            "text/html": [
              "\n",
              "  <div id=\"df-fe2eb42d-de6e-42a9-9033-900bb0838fe5\">\n",
              "    <div class=\"colab-df-container\">\n",
              "      <div>\n",
              "<style scoped>\n",
              "    .dataframe tbody tr th:only-of-type {\n",
              "        vertical-align: middle;\n",
              "    }\n",
              "\n",
              "    .dataframe tbody tr th {\n",
              "        vertical-align: top;\n",
              "    }\n",
              "\n",
              "    .dataframe thead th {\n",
              "        text-align: right;\n",
              "    }\n",
              "</style>\n",
              "<table border=\"1\" class=\"dataframe\">\n",
              "  <thead>\n",
              "    <tr style=\"text-align: right;\">\n",
              "      <th></th>\n",
              "      <th>text</th>\n",
              "      <th>sentimen</th>\n",
              "      <th>sentimen_encoded</th>\n",
              "    </tr>\n",
              "  </thead>\n",
              "  <tbody>\n",
              "    <tr>\n",
              "      <th>11636</th>\n",
              "      <td>Sudah diterima. Trims.</td>\n",
              "      <td>Positif</td>\n",
              "      <td>2</td>\n",
              "    </tr>\n",
              "  </tbody>\n",
              "</table>\n",
              "</div>\n",
              "      <button class=\"colab-df-convert\" onclick=\"convertToInteractive('df-fe2eb42d-de6e-42a9-9033-900bb0838fe5')\"\n",
              "              title=\"Convert this dataframe to an interactive table.\"\n",
              "              style=\"display:none;\">\n",
              "        \n",
              "  <svg xmlns=\"http://www.w3.org/2000/svg\" height=\"24px\"viewBox=\"0 0 24 24\"\n",
              "       width=\"24px\">\n",
              "    <path d=\"M0 0h24v24H0V0z\" fill=\"none\"/>\n",
              "    <path d=\"M18.56 5.44l.94 2.06.94-2.06 2.06-.94-2.06-.94-.94-2.06-.94 2.06-2.06.94zm-11 1L8.5 8.5l.94-2.06 2.06-.94-2.06-.94L8.5 2.5l-.94 2.06-2.06.94zm10 10l.94 2.06.94-2.06 2.06-.94-2.06-.94-.94-2.06-.94 2.06-2.06.94z\"/><path d=\"M17.41 7.96l-1.37-1.37c-.4-.4-.92-.59-1.43-.59-.52 0-1.04.2-1.43.59L10.3 9.45l-7.72 7.72c-.78.78-.78 2.05 0 2.83L4 21.41c.39.39.9.59 1.41.59.51 0 1.02-.2 1.41-.59l7.78-7.78 2.81-2.81c.8-.78.8-2.07 0-2.86zM5.41 20L4 18.59l7.72-7.72 1.47 1.35L5.41 20z\"/>\n",
              "  </svg>\n",
              "      </button>\n",
              "      \n",
              "  <style>\n",
              "    .colab-df-container {\n",
              "      display:flex;\n",
              "      flex-wrap:wrap;\n",
              "      gap: 12px;\n",
              "    }\n",
              "\n",
              "    .colab-df-convert {\n",
              "      background-color: #E8F0FE;\n",
              "      border: none;\n",
              "      border-radius: 50%;\n",
              "      cursor: pointer;\n",
              "      display: none;\n",
              "      fill: #1967D2;\n",
              "      height: 32px;\n",
              "      padding: 0 0 0 0;\n",
              "      width: 32px;\n",
              "    }\n",
              "\n",
              "    .colab-df-convert:hover {\n",
              "      background-color: #E2EBFA;\n",
              "      box-shadow: 0px 1px 2px rgba(60, 64, 67, 0.3), 0px 1px 3px 1px rgba(60, 64, 67, 0.15);\n",
              "      fill: #174EA6;\n",
              "    }\n",
              "\n",
              "    [theme=dark] .colab-df-convert {\n",
              "      background-color: #3B4455;\n",
              "      fill: #D2E3FC;\n",
              "    }\n",
              "\n",
              "    [theme=dark] .colab-df-convert:hover {\n",
              "      background-color: #434B5C;\n",
              "      box-shadow: 0px 1px 3px 1px rgba(0, 0, 0, 0.15);\n",
              "      filter: drop-shadow(0px 1px 2px rgba(0, 0, 0, 0.3));\n",
              "      fill: #FFFFFF;\n",
              "    }\n",
              "  </style>\n",
              "\n",
              "      <script>\n",
              "        const buttonEl =\n",
              "          document.querySelector('#df-fe2eb42d-de6e-42a9-9033-900bb0838fe5 button.colab-df-convert');\n",
              "        buttonEl.style.display =\n",
              "          google.colab.kernel.accessAllowed ? 'block' : 'none';\n",
              "\n",
              "        async function convertToInteractive(key) {\n",
              "          const element = document.querySelector('#df-fe2eb42d-de6e-42a9-9033-900bb0838fe5');\n",
              "          const dataTable =\n",
              "            await google.colab.kernel.invokeFunction('convertToInteractive',\n",
              "                                                     [key], {});\n",
              "          if (!dataTable) return;\n",
              "\n",
              "          const docLinkHtml = 'Like what you see? Visit the ' +\n",
              "            '<a target=\"_blank\" href=https://colab.research.google.com/notebooks/data_table.ipynb>data table notebook</a>'\n",
              "            + ' to learn more about interactive tables.';\n",
              "          element.innerHTML = '';\n",
              "          dataTable['output_type'] = 'display_data';\n",
              "          await google.colab.output.renderOutput(dataTable, element);\n",
              "          const docLink = document.createElement('div');\n",
              "          docLink.innerHTML = docLinkHtml;\n",
              "          element.appendChild(docLink);\n",
              "        }\n",
              "      </script>\n",
              "    </div>\n",
              "  </div>\n",
              "  "
            ]
          },
          "metadata": {},
          "execution_count": 26
        }
      ]
    },
    {
      "cell_type": "markdown",
      "metadata": {
        "id": "yiTYdqMXtigX"
      },
      "source": [
        "## 3. Data Modeling"
      ]
    },
    {
      "cell_type": "markdown",
      "metadata": {
        "id": "du75MwW1tnww"
      },
      "source": [
        "### 3.1. Training Phase"
      ]
    },
    {
      "cell_type": "code",
      "metadata": {
        "id": "0KZZgnnztmZu"
      },
      "source": [
        "X = df['text'].astype('str')\n",
        "y = df['sentimen'].astype('str')"
      ],
      "execution_count": 27,
      "outputs": []
    },
    {
      "cell_type": "code",
      "metadata": {
        "id": "EAUT3WgSt78I"
      },
      "source": [
        "# initialization TF-IDF\n",
        "\n",
        "# vectorize the 'text' data\n",
        "count_vect = CountVectorizer()\n",
        "X_counts = count_vect.fit_transform(X)\n",
        "\n",
        "# transform vectorized data into 'tf-idf' value\n",
        "tfidf_transformer = TfidfTransformer()\n",
        "X_tfidf = tfidf_transformer.fit_transform(X_counts)"
      ],
      "execution_count": 28,
      "outputs": []
    },
    {
      "cell_type": "code",
      "metadata": {
        "id": "Z6aZy4XBuJOt"
      },
      "source": [
        "# for handling imbalance dataset, use SMOTE\n",
        "smote = SMOTE(random_state=1, k_neighbors=5)\n",
        "\n",
        "# over sampling process\n",
        "X_smote, y_smote = smote.fit_resample(X_tfidf, y)"
      ],
      "execution_count": 29,
      "outputs": []
    },
    {
      "cell_type": "code",
      "metadata": {
        "id": "rPhT2Z_1uTrj"
      },
      "source": [
        "# split data into independent variable (X) and dependent variable (y) - hold-out\n",
        "X_train, X_test, y_train, y_test = train_test_split(X_smote, y_smote, test_size=0.3, random_state=42)"
      ],
      "execution_count": 30,
      "outputs": []
    },
    {
      "cell_type": "code",
      "metadata": {
        "id": "QTB_X3TIyNbl"
      },
      "source": [
        "# training phase started\n",
        "svc = LinearSVC().fit(X_train, y_train) # kernel, C, gamma"
      ],
      "execution_count": 31,
      "outputs": []
    },
    {
      "cell_type": "markdown",
      "metadata": {
        "id": "UE_0Fi7myO6S"
      },
      "source": [
        "### 3.2 Evaluating Phase"
      ]
    },
    {
      "cell_type": "code",
      "metadata": {
        "id": "0D9TafTDyRIo"
      },
      "source": [
        "# predicting phase started\n",
        "y_pred = svc.predict(X_test)"
      ],
      "execution_count": 32,
      "outputs": []
    },
    {
      "cell_type": "code",
      "metadata": {
        "colab": {
          "base_uri": "https://localhost:8080/"
        },
        "id": "Hy0WPfNvySIk",
        "outputId": "6aa6430b-3b86-4feb-d476-a1317b3d3b70"
      },
      "source": [
        "# show metrics's score\n",
        "print(classification_report(y_test,y_pred))"
      ],
      "execution_count": 33,
      "outputs": [
        {
          "output_type": "stream",
          "name": "stdout",
          "text": [
            "              precision    recall  f1-score   support\n",
            "\n",
            "     Negatif       0.91      0.98      0.94     11890\n",
            "      Netral       0.99      1.00      1.00     11815\n",
            "     Positif       0.98      0.90      0.94     11895\n",
            "\n",
            "    accuracy                           0.96     35600\n",
            "   macro avg       0.96      0.96      0.96     35600\n",
            "weighted avg       0.96      0.96      0.96     35600\n",
            "\n"
          ]
        }
      ]
    },
    {
      "cell_type": "code",
      "metadata": {
        "colab": {
          "base_uri": "https://localhost:8080/",
          "height": 279
        },
        "id": "bOGlVOnqyUmN",
        "outputId": "8a5e4fc7-e9f6-4927-d030-8d7b86cae6cd"
      },
      "source": [
        "# visualize confusion matrix\n",
        "matrix = confusion_matrix(y_test, y_pred)\n",
        "\n",
        "sns.heatmap(matrix, annot=True)\n",
        "plt.ylabel(\"Actual\")\n",
        "plt.xlabel(\"Predicted\")\n",
        "\n",
        "plt.show()"
      ],
      "execution_count": 34,
      "outputs": [
        {
          "output_type": "display_data",
          "data": {
            "text/plain": [
              "<Figure size 432x288 with 2 Axes>"
            ],
            "image/png": "[encoded data removed]"
          },
          "metadata": {
            "needs_background": "light"
          }
        }
      ]
    },
    {
      "cell_type": "code",
      "metadata": {
        "colab": {
          "base_uri": "https://localhost:8080/"
        },
        "id": "Kyyof3MKyW-l",
        "outputId": "7dc8d09f-3a2a-4db7-cd34-1c85623f94fc"
      },
      "source": [
        "confusion_matrix(y_test, y_pred)"
      ],
      "execution_count": 35,
      "outputs": [
        {
          "output_type": "execute_result",
          "data": {
            "text/plain": [
              "array([[11619,     0,   271],\n",
              "       [    0, 11815,     0],\n",
              "       [ 1087,    66, 10742]])"
            ]
          },
          "metadata": {},
          "execution_count": 35
        }
      ]
    },
    {
      "cell_type": "markdown",
      "metadata": {
        "id": "JfaqTd3UyZWg"
      },
      "source": [
        "### 3.3 Data Testing"
      ]
    },
    {
      "cell_type": "code",
      "metadata": {
        "colab": {
          "base_uri": "https://localhost:8080/"
        },
        "id": "QiKMilHSyYxY",
        "outputId": "4a135e5e-b997-4c1f-aae4-d933d0603227"
      },
      "source": [
        "print(svc.predict(count_vect.transform(['Barang saya buang'])))"
      ],
      "execution_count": 36,
      "outputs": [
        {
          "output_type": "stream",
          "name": "stdout",
          "text": [
            "['Negatif']\n"
          ]
        }
      ]
    },
    {
      "cell_type": "code",
      "metadata": {
        "id": "41ao7Gjhycbx",
        "outputId": "7d87c284-f094-446a-a8e7-c4d4bf968832",
        "colab": {
          "base_uri": "https://localhost:8080/"
        }
      },
      "source": [
        "print(svc.predict(count_vect.transform(['Barang saya beli lagi ya'])))"
      ],
      "execution_count": 37,
      "outputs": [
        {
          "output_type": "stream",
          "name": "stdout",
          "text": [
            "['Positif']\n"
          ]
        }
      ]
    }
  ]
}